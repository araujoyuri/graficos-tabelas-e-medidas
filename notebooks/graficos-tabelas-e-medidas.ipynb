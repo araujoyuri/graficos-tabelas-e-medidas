{
 "cells": [
  {
   "cell_type": "code",
   "execution_count": 2,
   "metadata": {},
   "outputs": [],
   "source": [
    "%matplotlib inline\n",
    "import pandas as pd\n",
    "import numpy as np\n",
    "import matplotlib.pyplot as plt\n",
    "import seaborn as sns\n",
    "import statsmodels.api as sm\n",
    "from sklearn.model_selection import train_test_split\n",
    "from sklearn.linear_model import LinearRegression\n",
    "from sklearn.metrics import r2_score\n",
    "sns.set()"
   ]
  },
  {
   "cell_type": "code",
   "execution_count": 3,
   "metadata": {},
   "outputs": [],
   "source": [
    "df = pd.read_excel(\"../data/saeb-2015.xlsx\")"
   ]
  },
  {
   "cell_type": "code",
   "execution_count": 5,
   "metadata": {},
   "outputs": [
    {
     "data": {
      "text/html": [
       "<div>\n",
       "<style scoped>\n",
       "    .dataframe tbody tr th:only-of-type {\n",
       "        vertical-align: middle;\n",
       "    }\n",
       "\n",
       "    .dataframe tbody tr th {\n",
       "        vertical-align: top;\n",
       "    }\n",
       "\n",
       "    .dataframe thead th {\n",
       "        text-align: right;\n",
       "    }\n",
       "</style>\n",
       "<table border=\"1\" class=\"dataframe\">\n",
       "  <thead>\n",
       "    <tr style=\"text-align: right;\">\n",
       "      <th></th>\n",
       "      <th>ID_PROVA_BRASIL</th>\n",
       "      <th>Região</th>\n",
       "      <th>UF</th>\n",
       "      <th>Dependência Administrativa</th>\n",
       "      <th>SERIE</th>\n",
       "      <th>Código do aluno na ANEB/Prova Brasil</th>\n",
       "      <th>Proficiência em Língua Portuguesa transformada na escala única do SAEB, com média = 250, desvio = 50 (do SAEB/97)</th>\n",
       "      <th>Proficiência do aluno em Matemática transformada na escala única do SAEB, com média = 250, desvio = 50 (do SAEB/97)</th>\n",
       "      <th>Qual é o seu sexo?</th>\n",
       "      <th>Como você se considera?</th>\n",
       "      <th>...</th>\n",
       "      <th>Atualmente você trabalha fora de casa?</th>\n",
       "      <th>Quando você entrou na escola?</th>\n",
       "      <th>A partir da primeira série ou primeiro ano, em que tipo de escola você estudou?</th>\n",
       "      <th>Você já foi reprovado?</th>\n",
       "      <th>Você já abandonou a escola durante o período de aulas e ficou fora da escola o resto do ano?</th>\n",
       "      <th>Você faz o dever de casa de Língua Portuguesa?</th>\n",
       "      <th>O(A) professor(a) corrige o dever de casa de Língua Portuguesa?</th>\n",
       "      <th>Você faz o dever de casa de Matemática?</th>\n",
       "      <th>O(A) professor(a) corrige o dever de casa de Matemática?</th>\n",
       "      <th>Você utiliza a biblioteca ou sala de leitura da sua escola?</th>\n",
       "    </tr>\n",
       "  </thead>\n",
       "  <tbody>\n",
       "    <tr>\n",
       "      <th>0</th>\n",
       "      <td>2015</td>\n",
       "      <td>Nordeste</td>\n",
       "      <td>CE</td>\n",
       "      <td>Municipal</td>\n",
       "      <td>5</td>\n",
       "      <td>17324219</td>\n",
       "      <td>188.534129</td>\n",
       "      <td>189.393921</td>\n",
       "      <td>Masculino</td>\n",
       "      <td>Pardo(a).</td>\n",
       "      <td>...</td>\n",
       "      <td>Não.</td>\n",
       "      <td>Na creche (0 a 3 anos).</td>\n",
       "      <td>Somente em escola pública.</td>\n",
       "      <td>Não.</td>\n",
       "      <td>Não.</td>\n",
       "      <td>Sempre ou quase sempre.</td>\n",
       "      <td>Sempre ou quase sempre.</td>\n",
       "      <td>Sempre ou quase sempre.</td>\n",
       "      <td>Sempre ou quase sempre.</td>\n",
       "      <td>De vez em quando.</td>\n",
       "    </tr>\n",
       "    <tr>\n",
       "      <th>1</th>\n",
       "      <td>2015</td>\n",
       "      <td>Nordeste</td>\n",
       "      <td>CE</td>\n",
       "      <td>Municipal</td>\n",
       "      <td>5</td>\n",
       "      <td>17324220</td>\n",
       "      <td>201.948481</td>\n",
       "      <td>233.890027</td>\n",
       "      <td>Masculino</td>\n",
       "      <td>Branco(a).</td>\n",
       "      <td>...</td>\n",
       "      <td>Não.</td>\n",
       "      <td>Na creche (0 a 3 anos).</td>\n",
       "      <td>Somente em escola pública.</td>\n",
       "      <td>Não.</td>\n",
       "      <td>Não.</td>\n",
       "      <td>Sempre ou quase sempre.</td>\n",
       "      <td>Sempre ou quase sempre.</td>\n",
       "      <td>Sempre ou quase sempre.</td>\n",
       "      <td>Sempre ou quase sempre.</td>\n",
       "      <td>De vez em quando.</td>\n",
       "    </tr>\n",
       "    <tr>\n",
       "      <th>2</th>\n",
       "      <td>2015</td>\n",
       "      <td>Nordeste</td>\n",
       "      <td>CE</td>\n",
       "      <td>Municipal</td>\n",
       "      <td>5</td>\n",
       "      <td>17324223</td>\n",
       "      <td>250.581321</td>\n",
       "      <td>274.296826</td>\n",
       "      <td>Feminino.</td>\n",
       "      <td>Amarelo(a).</td>\n",
       "      <td>...</td>\n",
       "      <td>Não.</td>\n",
       "      <td>Na pré-escola (4 a 5 anos).</td>\n",
       "      <td>Somente em escola pública.</td>\n",
       "      <td>Sim, uma vez.</td>\n",
       "      <td>Não.</td>\n",
       "      <td>Sempre ou quase sempre.</td>\n",
       "      <td>Sempre ou quase sempre.</td>\n",
       "      <td>Sempre ou quase sempre.</td>\n",
       "      <td>Sempre ou quase sempre.</td>\n",
       "      <td>De vez em quando.</td>\n",
       "    </tr>\n",
       "    <tr>\n",
       "      <th>3</th>\n",
       "      <td>2015</td>\n",
       "      <td>Nordeste</td>\n",
       "      <td>CE</td>\n",
       "      <td>Municipal</td>\n",
       "      <td>5</td>\n",
       "      <td>17324224</td>\n",
       "      <td>248.970776</td>\n",
       "      <td>277.062938</td>\n",
       "      <td>Masculino</td>\n",
       "      <td>Pardo(a).</td>\n",
       "      <td>...</td>\n",
       "      <td>Não.</td>\n",
       "      <td>Na pré-escola (4 a 5 anos).</td>\n",
       "      <td>Somente em escola pública.</td>\n",
       "      <td>Não.</td>\n",
       "      <td>Não.</td>\n",
       "      <td>Sempre ou quase sempre.</td>\n",
       "      <td>Sempre ou quase sempre.</td>\n",
       "      <td>Sempre ou quase sempre.</td>\n",
       "      <td>Sempre ou quase sempre.</td>\n",
       "      <td>Sempre ou quase sempre.</td>\n",
       "    </tr>\n",
       "    <tr>\n",
       "      <th>4</th>\n",
       "      <td>2015</td>\n",
       "      <td>Nordeste</td>\n",
       "      <td>CE</td>\n",
       "      <td>Municipal</td>\n",
       "      <td>5</td>\n",
       "      <td>17324225</td>\n",
       "      <td>287.952030</td>\n",
       "      <td>259.769069</td>\n",
       "      <td>Feminino.</td>\n",
       "      <td>Amarelo(a).</td>\n",
       "      <td>...</td>\n",
       "      <td>Não.</td>\n",
       "      <td>Na pré-escola (4 a 5 anos).</td>\n",
       "      <td>Somente em escola pública.</td>\n",
       "      <td>Não.</td>\n",
       "      <td>Não.</td>\n",
       "      <td>Sempre ou quase sempre.</td>\n",
       "      <td>Sempre ou quase sempre.</td>\n",
       "      <td>Sempre ou quase sempre.</td>\n",
       "      <td>Sempre ou quase sempre.</td>\n",
       "      <td>De vez em quando.</td>\n",
       "    </tr>\n",
       "  </tbody>\n",
       "</table>\n",
       "<p>5 rows × 58 columns</p>\n",
       "</div>"
      ],
      "text/plain": [
       "   ID_PROVA_BRASIL    Região  UF Dependência Administrativa  SERIE  \\\n",
       "0             2015  Nordeste  CE                  Municipal      5   \n",
       "1             2015  Nordeste  CE                  Municipal      5   \n",
       "2             2015  Nordeste  CE                  Municipal      5   \n",
       "3             2015  Nordeste  CE                  Municipal      5   \n",
       "4             2015  Nordeste  CE                  Municipal      5   \n",
       "\n",
       "   Código do aluno na ANEB/Prova Brasil  \\\n",
       "0                              17324219   \n",
       "1                              17324220   \n",
       "2                              17324223   \n",
       "3                              17324224   \n",
       "4                              17324225   \n",
       "\n",
       "   Proficiência em Língua Portuguesa transformada na escala única do SAEB, com média = 250, desvio = 50 (do SAEB/97)  \\\n",
       "0                                         188.534129                                                                   \n",
       "1                                         201.948481                                                                   \n",
       "2                                         250.581321                                                                   \n",
       "3                                         248.970776                                                                   \n",
       "4                                         287.952030                                                                   \n",
       "\n",
       "   Proficiência do aluno em Matemática transformada na escala única do SAEB, com média = 250, desvio = 50 (do SAEB/97)  \\\n",
       "0                                         189.393921                                                                     \n",
       "1                                         233.890027                                                                     \n",
       "2                                         274.296826                                                                     \n",
       "3                                         277.062938                                                                     \n",
       "4                                         259.769069                                                                     \n",
       "\n",
       "  Qual é o seu sexo? Como você se considera?  \\\n",
       "0          Masculino               Pardo(a).   \n",
       "1          Masculino              Branco(a).   \n",
       "2          Feminino.             Amarelo(a).   \n",
       "3          Masculino               Pardo(a).   \n",
       "4          Feminino.             Amarelo(a).   \n",
       "\n",
       "                              ...                              \\\n",
       "0                             ...                               \n",
       "1                             ...                               \n",
       "2                             ...                               \n",
       "3                             ...                               \n",
       "4                             ...                               \n",
       "\n",
       "   Atualmente você trabalha fora de casa? Quando você entrou na escola?  \\\n",
       "0                                    Não.       Na creche (0 a 3 anos).   \n",
       "1                                    Não.       Na creche (0 a 3 anos).   \n",
       "2                                    Não.   Na pré-escola (4 a 5 anos).   \n",
       "3                                    Não.   Na pré-escola (4 a 5 anos).   \n",
       "4                                    Não.   Na pré-escola (4 a 5 anos).   \n",
       "\n",
       "  A partir da primeira série ou primeiro ano, em que tipo de escola você estudou?  \\\n",
       "0                         Somente em escola pública.                                \n",
       "1                         Somente em escola pública.                                \n",
       "2                         Somente em escola pública.                                \n",
       "3                         Somente em escola pública.                                \n",
       "4                         Somente em escola pública.                                \n",
       "\n",
       "  Você já foi reprovado?  \\\n",
       "0                   Não.   \n",
       "1                   Não.   \n",
       "2          Sim, uma vez.   \n",
       "3                   Não.   \n",
       "4                   Não.   \n",
       "\n",
       "   Você já abandonou a escola durante o período de aulas e ficou fora da escola o resto do ano?  \\\n",
       "0                                               Não.                                              \n",
       "1                                               Não.                                              \n",
       "2                                               Não.                                              \n",
       "3                                               Não.                                              \n",
       "4                                               Não.                                              \n",
       "\n",
       "  Você faz o dever de casa de Língua Portuguesa?  \\\n",
       "0                        Sempre ou quase sempre.   \n",
       "1                        Sempre ou quase sempre.   \n",
       "2                        Sempre ou quase sempre.   \n",
       "3                        Sempre ou quase sempre.   \n",
       "4                        Sempre ou quase sempre.   \n",
       "\n",
       "  O(A) professor(a) corrige o dever de casa de Língua Portuguesa?  \\\n",
       "0                            Sempre ou quase sempre.                \n",
       "1                            Sempre ou quase sempre.                \n",
       "2                            Sempre ou quase sempre.                \n",
       "3                            Sempre ou quase sempre.                \n",
       "4                            Sempre ou quase sempre.                \n",
       "\n",
       "  Você faz o dever de casa de Matemática?  \\\n",
       "0                 Sempre ou quase sempre.   \n",
       "1                 Sempre ou quase sempre.   \n",
       "2                 Sempre ou quase sempre.   \n",
       "3                 Sempre ou quase sempre.   \n",
       "4                 Sempre ou quase sempre.   \n",
       "\n",
       "  O(A) professor(a) corrige o dever de casa de Matemática?  \\\n",
       "0                            Sempre ou quase sempre.         \n",
       "1                            Sempre ou quase sempre.         \n",
       "2                            Sempre ou quase sempre.         \n",
       "3                            Sempre ou quase sempre.         \n",
       "4                            Sempre ou quase sempre.         \n",
       "\n",
       "  Você utiliza a biblioteca ou sala de leitura da sua escola?  \n",
       "0                                  De vez em quando.           \n",
       "1                                  De vez em quando.           \n",
       "2                                  De vez em quando.           \n",
       "3                            Sempre ou quase sempre.           \n",
       "4                                  De vez em quando.           \n",
       "\n",
       "[5 rows x 58 columns]"
      ]
     },
     "execution_count": 5,
     "metadata": {},
     "output_type": "execute_result"
    }
   ],
   "source": [
    "df.head()"
   ]
  },
  {
   "cell_type": "code",
   "execution_count": 17,
   "metadata": {},
   "outputs": [
    {
     "data": {
      "text/plain": [
       "(24479, 58)"
      ]
     },
     "execution_count": 17,
     "metadata": {},
     "output_type": "execute_result"
    }
   ],
   "source": [
    "df.shape"
   ]
  },
  {
   "cell_type": "code",
   "execution_count": 7,
   "metadata": {},
   "outputs": [
    {
     "data": {
      "text/plain": [
       "Sempre ou quase sempre.                       20678\n",
       "De vez em quando.                              3268\n",
       "Nunca ou quase nunca.                           299\n",
       "O(A) professor(a) não passa dever de casa.      234\n",
       "Name: O(A) professor(a) corrige o dever de casa de Língua Portuguesa?, dtype: int64"
      ]
     },
     "execution_count": 7,
     "metadata": {},
     "output_type": "execute_result"
    }
   ],
   "source": [
    "df['O(A) professor(a) corrige o dever de casa de Língua Portuguesa?'].value_counts()"
   ]
  },
  {
   "cell_type": "code",
   "execution_count": null,
   "metadata": {},
   "outputs": [],
   "source": [
    "df['O(A) professor(a) corrige o dever de casa de Língua Portuguesa?'].value_counts().plot(kind='bar')\n",
    "plt.show()"
   ]
  },
  {
   "cell_type": "code",
   "execution_count": null,
   "metadata": {},
   "outputs": [],
   "source": [
    "df.groupby('O(A) professor(a) corrige o dever de casa de Língua Portuguesa?')['Você faz o dever de casa de Língua Portuguesa?'].value_counts().plot(kind='bar')\n",
    "plt.show()"
   ]
  },
  {
   "cell_type": "code",
   "execution_count": 6,
   "metadata": {},
   "outputs": [
    {
     "data": {
      "image/png": "[encoded data removed]",
      "text/plain": [
       "<Figure size 432x288 with 1 Axes>"
      ]
     },
     "metadata": {
      "needs_background": "light"
     },
     "output_type": "display_data"
    }
   ],
   "source": [
    "df['Qual a sua idade?'].hist()\n",
    "plt.show()"
   ]
  },
  {
   "cell_type": "code",
   "execution_count": 16,
   "metadata": {},
   "outputs": [
    {
     "data": {
      "image/png": "[encoded data removed]",
      "text/plain": [
       "<Figure size 432x288 with 1 Axes>"
      ]
     },
     "metadata": {
      "needs_background": "light"
     },
     "output_type": "display_data"
    }
   ],
   "source": [
    "fig, ax = plt.subplots()\n",
    "plt.hist(df['Qual a sua idade?'], bins=8, orientation='vertical')\n",
    "ax.ticklabel_format(style='plain')"
   ]
  },
  {
   "cell_type": "code",
   "execution_count": 4,
   "metadata": {},
   "outputs": [],
   "source": [
    "df['percent'] = df['Proficiência do aluno em Matemática transformada na escala única do SAEB, com média = 250, desvio = 50 (do SAEB/97)'] / df['Proficiência do aluno em Matemática transformada na escala única do SAEB, com média = 250, desvio = 50 (do SAEB/97)'].sum()"
   ]
  },
  {
   "cell_type": "code",
   "execution_count": null,
   "metadata": {},
   "outputs": [],
   "source": [
    "plt.pie(df['percent'], labels=df['Proficiência do aluno em Matemática transformada na escala única do SAEB, com média = 250, desvio = 50 (do SAEB/97)'])\n",
    "plt.show()"
   ]
  },
  {
   "cell_type": "code",
   "execution_count": null,
   "metadata": {},
   "outputs": [],
   "source": []
  }
 ],
 "metadata": {
  "kernelspec": {
   "display_name": "Python 3",
   "language": "python",
   "name": "python3"
  },
  "language_info": {
   "codemirror_mode": {
    "name": "ipython",
    "version": 3
   },
   "file_extension": ".py",
   "mimetype": "text/x-python",
   "name": "python",
   "nbconvert_exporter": "python",
   "pygments_lexer": "ipython3",
   "version": "3.6.6"
  }
 },
 "nbformat": 4,
 "nbformat_minor": 1
}
